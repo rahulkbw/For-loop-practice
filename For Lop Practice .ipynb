{
 "cells": [
  {
   "cell_type": "code",
   "execution_count": 1,
   "id": "9a83877c-845c-4b5d-a8fe-2a356155fd6c",
   "metadata": {},
   "outputs": [],
   "source": [
    "l = [1,2,3,4,5,6,9,8,7]"
   ]
  },
  {
   "cell_type": "code",
   "execution_count": 2,
   "id": "f5ff869e-0ac0-4225-a2f0-5905408a95d0",
   "metadata": {},
   "outputs": [
    {
     "name": "stdout",
     "output_type": "stream",
     "text": [
      "1 <class 'int'>\n",
      "2 <class 'int'>\n",
      "3 <class 'int'>\n",
      "4 <class 'int'>\n",
      "5 <class 'int'>\n",
      "6 <class 'int'>\n",
      "9 <class 'int'>\n",
      "8 <class 'int'>\n",
      "7 <class 'int'>\n"
     ]
    }
   ],
   "source": [
    "for i in l :\n",
    "    print(i,type(i))"
   ]
  },
  {
   "cell_type": "code",
   "execution_count": 3,
   "id": "d437972b-7857-4767-955a-6ddba513c2c8",
   "metadata": {},
   "outputs": [],
   "source": [
    "l1 = ['rahu', 'kuli','data','science',]"
   ]
  },
  {
   "cell_type": "code",
   "execution_count": 4,
   "id": "3a4355c5-28c2-417c-8cb2-91b0a8e79a53",
   "metadata": {},
   "outputs": [
    {
     "name": "stdout",
     "output_type": "stream",
     "text": [
      "rahu\n",
      "kuli\n",
      "data\n",
      "science\n"
     ]
    }
   ],
   "source": [
    "for i in l1:\n",
    "    print(i)"
   ]
  },
  {
   "cell_type": "code",
   "execution_count": 5,
   "id": "dfcfc9ee-6ab0-4ffa-abde-5a0bfd4128e5",
   "metadata": {},
   "outputs": [
    {
     "data": {
      "text/plain": [
       "['rahu', 'kuli', 'data', 'science']"
      ]
     },
     "execution_count": 5,
     "metadata": {},
     "output_type": "execute_result"
    }
   ],
   "source": [
    "l1"
   ]
  },
  {
   "cell_type": "code",
   "execution_count": 7,
   "id": "6efda9e6-ae32-43e5-9703-97cd13a0b0a3",
   "metadata": {},
   "outputs": [
    {
     "name": "stdout",
     "output_type": "stream",
     "text": [
      "rahu\n",
      "kuli\n",
      "data\n",
      "science\n",
      "if for loop is able to complete itself then only else will execute\n"
     ]
    }
   ],
   "source": [
    "for i in l1:\n",
    "    print(i)\n",
    "else:\n",
    "    print('if for loop is able to complete itself then only else will execute')"
   ]
  },
  {
   "cell_type": "code",
   "execution_count": 8,
   "id": "dc6bd228-0638-450d-9e6c-59874257c199",
   "metadata": {},
   "outputs": [
    {
     "data": {
      "text/plain": [
       "['rahu', 'kuli', 'data', 'science']"
      ]
     },
     "execution_count": 8,
     "metadata": {},
     "output_type": "execute_result"
    }
   ],
   "source": [
    "l1"
   ]
  },
  {
   "cell_type": "code",
   "execution_count": 12,
   "id": "030be334-da54-43ee-ba32-0dc4fba45a68",
   "metadata": {},
   "outputs": [
    {
     "name": "stdout",
     "output_type": "stream",
     "text": [
      "rahu\n",
      "kuli\n"
     ]
    }
   ],
   "source": [
    "for i in l1:\n",
    "    if i == \"data\":\n",
    "        break\n",
    "    print(i)"
   ]
  },
  {
   "cell_type": "code",
   "execution_count": 13,
   "id": "9bf6f05c-13c2-4861-b2e8-385344dac09c",
   "metadata": {},
   "outputs": [
    {
     "data": {
      "text/plain": [
       "['rahu', 'kuli', 'data', 'science']"
      ]
     },
     "execution_count": 13,
     "metadata": {},
     "output_type": "execute_result"
    }
   ],
   "source": [
    "l1"
   ]
  },
  {
   "cell_type": "code",
   "execution_count": 15,
   "id": "774083c1-faf9-4643-a2c2-605822e545ab",
   "metadata": {},
   "outputs": [
    {
     "name": "stdout",
     "output_type": "stream",
     "text": [
      "rahu\n",
      "kuli\n"
     ]
    }
   ],
   "source": [
    "for i in l1:\n",
    "    if i == \"data\":\n",
    "        break\n",
    "    print(i)\n",
    "else :\n",
    "    print(\"execute this if for loop is able to complete itself\")\n",
    "    \n",
    "    "
   ]
  },
  {
   "cell_type": "code",
   "execution_count": 16,
   "id": "c45b8422-3ba1-477d-bf3a-238b4232782c",
   "metadata": {},
   "outputs": [
    {
     "data": {
      "text/plain": [
       "['rahu', 'kuli', 'data', 'science']"
      ]
     },
     "execution_count": 16,
     "metadata": {},
     "output_type": "execute_result"
    }
   ],
   "source": [
    "l1"
   ]
  },
  {
   "cell_type": "code",
   "execution_count": null,
   "id": "560968cf-eafb-4e58-8e81-0d72faf42809",
   "metadata": {},
   "outputs": [
    {
     "name": "stdout",
     "output_type": "stream",
     "text": [
      "rahu\n",
      "data\n",
      "science\n"
     ]
    }
   ],
   "source": [
    "for i in l1:\n",
    "    if i == 'kuli':\n",
    "        continue\n",
    "    print(i)    "
   ]
  },
  {
   "cell_type": "code",
   "execution_count": 18,
   "id": "128d4f6a-4dc2-4348-b655-07882688186d",
   "metadata": {},
   "outputs": [
    {
     "name": "stdout",
     "output_type": "stream",
     "text": [
      "rahu\n",
      "data\n",
      "science\n",
      "execute this if for loop is able to complete itself\n"
     ]
    }
   ],
   "source": [
    "for i in l1:\n",
    "    if i == 'kuli':\n",
    "        continue\n",
    "    print(i)    \n",
    "else:\n",
    "    print(\"execute this if for loop is able to complete itself\")\n",
    "    "
   ]
  },
  {
   "cell_type": "code",
   "execution_count": 19,
   "id": "0ab1f6cc-9f0f-458d-849e-1580d6ff7e1e",
   "metadata": {},
   "outputs": [
    {
     "data": {
      "text/plain": [
       "range(0, 5)"
      ]
     },
     "execution_count": 19,
     "metadata": {},
     "output_type": "execute_result"
    }
   ],
   "source": [
    "range(5)"
   ]
  },
  {
   "cell_type": "code",
   "execution_count": 20,
   "id": "e5749f7a-ea19-408f-a04f-03b8f3d6a541",
   "metadata": {},
   "outputs": [
    {
     "data": {
      "text/plain": [
       "[0, 1, 2, 3, 4]"
      ]
     },
     "execution_count": 20,
     "metadata": {},
     "output_type": "execute_result"
    }
   ],
   "source": [
    "list(range(5))"
   ]
  },
  {
   "cell_type": "code",
   "execution_count": 21,
   "id": "aa8fa367-bc16-460d-a5d7-786f08ca9fb5",
   "metadata": {},
   "outputs": [
    {
     "data": {
      "text/plain": [
       "[0, 5, 10, 15, 20, 25, 30, 35, 40, 45, 50, 55, 60, 65, 70, 75, 80, 85, 90, 95]"
      ]
     },
     "execution_count": 21,
     "metadata": {},
     "output_type": "execute_result"
    }
   ],
   "source": [
    "list(range(0,100,5))"
   ]
  },
  {
   "cell_type": "code",
   "execution_count": 22,
   "id": "fd98c50a-8754-4b62-b481-ffe366eb4c3a",
   "metadata": {},
   "outputs": [
    {
     "data": {
      "text/plain": [
       "[0, 1, 2, 3, 4]"
      ]
     },
     "execution_count": 22,
     "metadata": {},
     "output_type": "execute_result"
    }
   ],
   "source": [
    "list(range(0,5,1))"
   ]
  },
  {
   "cell_type": "code",
   "execution_count": 23,
   "id": "7d88bf84-232d-4aad-bdc6-d02daf44a072",
   "metadata": {},
   "outputs": [
    {
     "data": {
      "text/plain": [
       "[-10, -9, -8, -7, -6, -5, -4, -3, -2, -1]"
      ]
     },
     "execution_count": 23,
     "metadata": {},
     "output_type": "execute_result"
    }
   ],
   "source": [
    "list(range(-10,0))"
   ]
  },
  {
   "cell_type": "code",
   "execution_count": 24,
   "id": "77d0ab46-6320-4db2-aa6e-33e7baf003f2",
   "metadata": {},
   "outputs": [
    {
     "data": {
      "text/plain": [
       "['rahu', 'kuli', 'data', 'science']"
      ]
     },
     "execution_count": 24,
     "metadata": {},
     "output_type": "execute_result"
    }
   ],
   "source": [
    "l1"
   ]
  },
  {
   "cell_type": "code",
   "execution_count": 27,
   "id": "c89eb4d8-64d0-4b51-b6db-5ddce3b18740",
   "metadata": {},
   "outputs": [
    {
     "data": {
      "text/plain": [
       "4"
      ]
     },
     "execution_count": 27,
     "metadata": {},
     "output_type": "execute_result"
    }
   ],
   "source": [
    "len(l1)"
   ]
  },
  {
   "cell_type": "code",
   "execution_count": 28,
   "id": "0158fe51-8727-4a41-b903-e796245b8291",
   "metadata": {},
   "outputs": [
    {
     "data": {
      "text/plain": [
       "[0, 1, 2, 3]"
      ]
     },
     "execution_count": 28,
     "metadata": {},
     "output_type": "execute_result"
    }
   ],
   "source": [
    "list(range(len(l1)))"
   ]
  },
  {
   "cell_type": "code",
   "execution_count": 30,
   "id": "e05b40ff-91d9-4644-8891-67e6d55430c7",
   "metadata": {},
   "outputs": [
    {
     "name": "stdout",
     "output_type": "stream",
     "text": [
      "rahu\n",
      "kuli\n",
      "data\n",
      "science\n"
     ]
    }
   ],
   "source": [
    "for i in range(len(l1)):\n",
    "    print(l1[i])"
   ]
  },
  {
   "cell_type": "code",
   "execution_count": 44,
   "id": "6824be9a-729f-479e-a35c-ff878059eb71",
   "metadata": {},
   "outputs": [
    {
     "data": {
      "text/plain": [
       "4"
      ]
     },
     "execution_count": 44,
     "metadata": {},
     "output_type": "execute_result"
    }
   ],
   "source": [
    "len(l1)"
   ]
  },
  {
   "cell_type": "code",
   "execution_count": 49,
   "id": "23975602-8cb3-4c12-a8ad-b70cc63582be",
   "metadata": {},
   "outputs": [
    {
     "data": {
      "text/plain": [
       "[3, 2, 1, 0]"
      ]
     },
     "execution_count": 49,
     "metadata": {},
     "output_type": "execute_result"
    }
   ],
   "source": [
    "list(range(len(l1)-1,-1,-1))"
   ]
  },
  {
   "cell_type": "code",
   "execution_count": 47,
   "id": "0adfa9e4-fae9-4b05-ac4e-982b72bf1e76",
   "metadata": {},
   "outputs": [
    {
     "data": {
      "text/plain": [
       "['rahu', 'kuli', 'data', 'science']"
      ]
     },
     "execution_count": 47,
     "metadata": {},
     "output_type": "execute_result"
    }
   ],
   "source": [
    "l1"
   ]
  },
  {
   "cell_type": "code",
   "execution_count": 50,
   "id": "ef4d8e2e-e8c4-4e48-b8f2-df382fbac0af",
   "metadata": {},
   "outputs": [
    {
     "name": "stdout",
     "output_type": "stream",
     "text": [
      "science\n",
      "data\n",
      "kuli\n",
      "rahu\n"
     ]
    }
   ],
   "source": [
    "for i in range(len(l1)-1,-1,-1):\n",
    "    print(l1[i])"
   ]
  },
  {
   "cell_type": "code",
   "execution_count": 51,
   "id": "cbc58919-3c2e-4151-b98f-38415db2abd2",
   "metadata": {},
   "outputs": [],
   "source": [
    "l2 = [12,21,3,45,48,75,642,65,2455,585,6,46,3,5,32,65,]"
   ]
  },
  {
   "cell_type": "code",
   "execution_count": 52,
   "id": "e1b47957-c2d7-455c-8cf7-3bc00c1cd08c",
   "metadata": {},
   "outputs": [
    {
     "data": {
      "text/plain": [
       "[0, 2, 4, 6, 8, 10, 12, 14]"
      ]
     },
     "execution_count": 52,
     "metadata": {},
     "output_type": "execute_result"
    }
   ],
   "source": [
    "list(range(0,len(l2),2))"
   ]
  },
  {
   "cell_type": "code",
   "execution_count": 53,
   "id": "a9963ec7-c963-4493-a2ee-c98407bb1018",
   "metadata": {},
   "outputs": [
    {
     "name": "stdout",
     "output_type": "stream",
     "text": [
      "12\n",
      "3\n",
      "48\n",
      "642\n",
      "2455\n",
      "6\n",
      "3\n",
      "32\n"
     ]
    }
   ],
   "source": [
    "for i in range(0,len(l2),2) :\n",
    "    print(l2[i])"
   ]
  },
  {
   "cell_type": "code",
   "execution_count": 55,
   "id": "a18a411f-90e0-474c-8256-81786e98afa0",
   "metadata": {},
   "outputs": [],
   "source": [
    "l = [1,2,3,5,6,7,8,9,6,4,8,6,4,5,65,75,6,58,8,5,5,69]"
   ]
  },
  {
   "cell_type": "code",
   "execution_count": 57,
   "id": "47ec7e6a-47d5-4301-8e1a-2053819e1b46",
   "metadata": {},
   "outputs": [
    {
     "data": {
      "text/plain": [
       "365"
      ]
     },
     "execution_count": 57,
     "metadata": {},
     "output_type": "execute_result"
    }
   ],
   "source": [
    "sum(l)"
   ]
  },
  {
   "cell_type": "code",
   "execution_count": 61,
   "id": "b4728c6c-02fd-4054-afb6-80a39627e130",
   "metadata": {},
   "outputs": [
    {
     "data": {
      "text/plain": [
       "365"
      ]
     },
     "execution_count": 61,
     "metadata": {},
     "output_type": "execute_result"
    }
   ],
   "source": [
    "result = 0\n",
    "for i in l:\n",
    "    result = result+i\n",
    "result    \n",
    "    "
   ]
  },
  {
   "cell_type": "code",
   "execution_count": 62,
   "id": "9cfd64b0-aedd-4e27-baef-f1fc6167cbf6",
   "metadata": {},
   "outputs": [],
   "source": [
    "t=(1,2,3,4,5,6,7,89,9,4,8,6,7,65,7,65,4,6,2,54,6)"
   ]
  },
  {
   "cell_type": "code",
   "execution_count": 65,
   "id": "eb04550e-269a-4cf4-bbf3-62c2e8747830",
   "metadata": {},
   "outputs": [
    {
     "name": "stdout",
     "output_type": "stream",
     "text": [
      "1\n",
      "2\n",
      "3\n",
      "4\n",
      "5\n",
      "6\n",
      "7\n",
      "89\n",
      "9\n",
      "4\n",
      "8\n",
      "6\n",
      "7\n",
      "65\n",
      "7\n",
      "65\n",
      "4\n",
      "6\n",
      "2\n",
      "54\n",
      "6\n"
     ]
    }
   ],
   "source": [
    "for i in t:\n",
    "    print(i)"
   ]
  },
  {
   "cell_type": "code",
   "execution_count": 63,
   "id": "237efdf4-29f5-4961-a22f-8f988cb207e4",
   "metadata": {},
   "outputs": [
    {
     "data": {
      "text/plain": [
       "360"
      ]
     },
     "execution_count": 63,
     "metadata": {},
     "output_type": "execute_result"
    }
   ],
   "source": [
    "result=0\n",
    "for i in t:\n",
    "    result=result+i\n",
    "result    "
   ]
  },
  {
   "cell_type": "code",
   "execution_count": 64,
   "id": "05a30a2f-c598-4619-b80d-859a475a817a",
   "metadata": {},
   "outputs": [
    {
     "data": {
      "text/plain": [
       "360"
      ]
     },
     "execution_count": 64,
     "metadata": {},
     "output_type": "execute_result"
    }
   ],
   "source": [
    "sum(t)"
   ]
  },
  {
   "cell_type": "code",
   "execution_count": 66,
   "id": "4e035d01-3ca8-4708-bbea-80668b407e8a",
   "metadata": {},
   "outputs": [],
   "source": [
    "s=(1,2,3,4,6,5,8,7,93,'talok','pwskils','data')"
   ]
  },
  {
   "cell_type": "code",
   "execution_count": 68,
   "id": "ce05dac5-2da5-4364-a8d6-d7a18cd094c0",
   "metadata": {},
   "outputs": [
    {
     "name": "stdout",
     "output_type": "stream",
     "text": [
      "1\n",
      "2\n",
      "3\n",
      "4\n",
      "6\n",
      "5\n",
      "8\n",
      "7\n",
      "93\n",
      "talok\n",
      "pwskils\n",
      "data\n"
     ]
    }
   ],
   "source": [
    "for i in s :\n",
    "    print(i)"
   ]
  },
  {
   "cell_type": "code",
   "execution_count": 69,
   "id": "b34aa0be-2571-456b-9f67-9cf35606c5cd",
   "metadata": {},
   "outputs": [],
   "source": [
    "s1 = \"pwskills\""
   ]
  },
  {
   "cell_type": "code",
   "execution_count": 72,
   "id": "3fb10c1d-6ffa-44ab-b4c6-eae2172a74af",
   "metadata": {},
   "outputs": [
    {
     "name": "stdout",
     "output_type": "stream",
     "text": [
      "p\n",
      "w\n",
      "s\n",
      "k\n",
      "i\n",
      "l\n",
      "l\n",
      "s\n"
     ]
    }
   ],
   "source": [
    "for i in s1:\n",
    "    print(i)"
   ]
  },
  {
   "cell_type": "code",
   "execution_count": 75,
   "id": "f9b8a1a8-21e7-4a49-9696-a1f96e952439",
   "metadata": {},
   "outputs": [],
   "source": [
    "d = {\"name\":r'rahul',\"class\": \"data science master\",\"topic\":[\"python\",\"statsd\",\"machine learning\",\"DL\", \"cv\",'NLP','resume',\"interview\"]}"
   ]
  },
  {
   "cell_type": "code",
   "execution_count": 77,
   "id": "b3c6fdb4-d773-444a-b6ff-de7f9f2e1299",
   "metadata": {},
   "outputs": [
    {
     "data": {
      "text/plain": [
       "{'name': 'rahul',\n",
       " 'class': 'data science master',\n",
       " 'topic': ['python',\n",
       "  'statsd',\n",
       "  'machine learning',\n",
       "  'DL',\n",
       "  'cv',\n",
       "  'NLP',\n",
       "  'resume',\n",
       "  'interview']}"
      ]
     },
     "execution_count": 77,
     "metadata": {},
     "output_type": "execute_result"
    }
   ],
   "source": [
    "d"
   ]
  },
  {
   "cell_type": "code",
   "execution_count": 79,
   "id": "1b4570e9-bae5-4ea7-8761-ee4afbda650d",
   "metadata": {},
   "outputs": [
    {
     "data": {
      "text/plain": [
       "dict_keys(['name', 'class', 'topic'])"
      ]
     },
     "execution_count": 79,
     "metadata": {},
     "output_type": "execute_result"
    }
   ],
   "source": [
    "d.keys()"
   ]
  },
  {
   "cell_type": "code",
   "execution_count": 78,
   "id": "0cc816a8-3a7b-4c04-b1e3-8a02b87d61a3",
   "metadata": {},
   "outputs": [
    {
     "name": "stdout",
     "output_type": "stream",
     "text": [
      "rahul\n",
      "data science master\n",
      "['python', 'statsd', 'machine learning', 'DL', 'cv', 'NLP', 'resume', 'interview']\n"
     ]
    }
   ],
   "source": [
    "for i in d.keys():\n",
    "    print(d[i])"
   ]
  },
  {
   "cell_type": "code",
   "execution_count": 81,
   "id": "d3544aab-9991-4cb2-ab11-a5379eaddb12",
   "metadata": {},
   "outputs": [
    {
     "data": {
      "text/plain": [
       "dict_values(['rahul', 'data science master', ['python', 'statsd', 'machine learning', 'DL', 'cv', 'NLP', 'resume', 'interview']])"
      ]
     },
     "execution_count": 81,
     "metadata": {},
     "output_type": "execute_result"
    }
   ],
   "source": [
    "d.values()"
   ]
  },
  {
   "cell_type": "code",
   "execution_count": 83,
   "id": "212cd7dd-298c-4402-ad48-4bbcbb84a0f2",
   "metadata": {},
   "outputs": [
    {
     "name": "stdout",
     "output_type": "stream",
     "text": [
      "rahul\n",
      "data science master\n",
      "['python', 'statsd', 'machine learning', 'DL', 'cv', 'NLP', 'resume', 'interview']\n"
     ]
    }
   ],
   "source": [
    "for i in d.values():\n",
    "    print(i)"
   ]
  },
  {
   "cell_type": "code",
   "execution_count": 84,
   "id": "94575e71-fcd7-4323-af96-71f9e79a9652",
   "metadata": {},
   "outputs": [
    {
     "data": {
      "text/plain": [
       "dict_items([('name', 'rahul'), ('class', 'data science master'), ('topic', ['python', 'statsd', 'machine learning', 'DL', 'cv', 'NLP', 'resume', 'interview'])])"
      ]
     },
     "execution_count": 84,
     "metadata": {},
     "output_type": "execute_result"
    }
   ],
   "source": [
    "d.items()"
   ]
  },
  {
   "cell_type": "code",
   "execution_count": 86,
   "id": "1fad15c9-670c-4a37-ae9d-5de765128d33",
   "metadata": {},
   "outputs": [
    {
     "name": "stdout",
     "output_type": "stream",
     "text": [
      "('name', 'rahul')\n",
      "('class', 'data science master')\n",
      "('topic', ['python', 'statsd', 'machine learning', 'DL', 'cv', 'NLP', 'resume', 'interview'])\n"
     ]
    }
   ],
   "source": [
    "for i in d.items():\n",
    "    print(i)"
   ]
  },
  {
   "cell_type": "code",
   "execution_count": null,
   "id": "f96317ac-7e62-4aa2-bd07-33b856ebeb75",
   "metadata": {},
   "outputs": [],
   "source": []
  }
 ],
 "metadata": {
  "kernelspec": {
   "display_name": "Python 3 (ipykernel)",
   "language": "python",
   "name": "python3"
  },
  "language_info": {
   "codemirror_mode": {
    "name": "ipython",
    "version": 3
   },
   "file_extension": ".py",
   "mimetype": "text/x-python",
   "name": "python",
   "nbconvert_exporter": "python",
   "pygments_lexer": "ipython3",
   "version": "3.10.8"
  }
 },
 "nbformat": 4,
 "nbformat_minor": 5
}
